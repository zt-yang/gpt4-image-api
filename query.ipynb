{
 "cells": [
  {
   "cell_type": "code",
   "execution_count": 46,
   "id": "41aec194",
   "metadata": {},
   "outputs": [],
   "source": [
    "import requests\n",
    "import time\n",
    "from os.path import join\n",
    "from pprint import pprint\n",
    "\n",
    "PORT_NUMBER = 8000\n",
    "\n",
    "def query(prompt, image_name=\"None\", continue_chat=False):\n",
    "    \n",
    "    start_time = time.time()\n",
    "    image_path = join(\"images\", image_name) if image_name != \"None\" else image_name\n",
    "\n",
    "    payload = {\n",
    "        \"continue_chat\": continue_chat, \"image_path\": image_path, \"prompt\": prompt\n",
    "    }\n",
    "\n",
    "    response = requests.post(\n",
    "        f\"http://localhost:{PORT_NUMBER}/action\",\n",
    "        json=payload,\n",
    "    ).json()\n",
    "\n",
    "    if 'status' in response and response['status'] == 'Success':\n",
    "        response = response['result']\n",
    "        print('Answer:', response)\n",
    "    else:\n",
    "        pprint(response)\n",
    "        \n",
    "    print(f'... in {round(time.time() - start_time, 3)} sec')"
   ]
  },
  {
   "cell_type": "code",
   "execution_count": 50,
   "id": "fdc86c6c",
   "metadata": {},
   "outputs": [
    {
     "name": "stdout",
     "output_type": "stream",
     "text": [
      "Answer: {'answer': ['wall cabinet', 'shelf', 'stove', 'tea kettle', 'microwave', 'trash can', 'refrigerator', 'spice container', 'salt shaker', 'bottle', 'dishwashing liquid', 'vase', 'plant']}\n",
      "... in 12.138 sec\n"
     ]
    }
   ],
   "source": [
    "query(\"Describe in a list all objects in this image.\", image_name=\"observation_0.jpg\")"
   ]
  },
  {
   "cell_type": "code",
   "execution_count": 51,
   "id": "eb5b9ea6",
   "metadata": {},
   "outputs": [
    {
     "name": "stdout",
     "output_type": "stream",
     "text": [
      "Answer: {'answer': 'no'}\n",
      "... in 4.188 sec\n"
     ]
    }
   ],
   "source": [
    "query(\"Is the door of the refrigerator open?\", continue_chat=True)"
   ]
  },
  {
   "cell_type": "code",
   "execution_count": 52,
   "id": "a7f589b6",
   "metadata": {},
   "outputs": [
    {
     "name": "stdout",
     "output_type": "stream",
     "text": [
      "Answer: {'answer': 'yes'}\n",
      "... in 4.663 sec\n"
     ]
    }
   ],
   "source": [
    "query(\"Is the door of the refrigerator open?\", image_name=\"observation_29.jpg\", continue_chat=True)"
   ]
  },
  {
   "cell_type": "code",
   "execution_count": null,
   "id": "7c25e2ab",
   "metadata": {},
   "outputs": [],
   "source": []
  }
 ],
 "metadata": {
  "kernelspec": {
   "display_name": "Python 3 (ipykernel)",
   "language": "python",
   "name": "python3"
  },
  "language_info": {
   "codemirror_mode": {
    "name": "ipython",
    "version": 3
   },
   "file_extension": ".py",
   "mimetype": "text/x-python",
   "name": "python",
   "nbconvert_exporter": "python",
   "pygments_lexer": "ipython3",
   "version": "3.10.12"
  }
 },
 "nbformat": 4,
 "nbformat_minor": 5
}
